{
  "nbformat": 4,
  "nbformat_minor": 0,
  "metadata": {
    "kernelspec": {
      "display_name": "Python 3",
      "language": "python",
      "name": "python3"
    },
    "language_info": {
      "codemirror_mode": {
        "name": "ipython",
        "version": 3
      },
      "file_extension": ".py",
      "mimetype": "text/x-python",
      "name": "python",
      "nbconvert_exporter": "python",
      "pygments_lexer": "ipython3",
      "version": "3.7.3"
    },
    "colab": {
      "name": "Week 1 Assessment-Nested Data and Iteration.ipynb",
      "provenance": []
    }
  },
  "cells": [
    {
      "cell_type": "markdown",
      "metadata": {
        "id": "id8FJBplxYoF"
      },
      "source": [
        "### Question 1\n",
        "The variable _nested_ contains a nested list. Assign ‘snake’ to the variable _output_ using indexing."
      ]
    },
    {
      "cell_type": "code",
      "metadata": {
        "id": "JNN-LiE2xYoG"
      },
      "source": [
        "nested = [['dog', 'cat', 'horse'], ['frog', 'turtle', 'snake', 'gecko'], ['hamster', 'gerbil', 'rat', 'ferret']]"
      ],
      "execution_count": null,
      "outputs": []
    },
    {
      "cell_type": "code",
      "metadata": {
        "id": "QksVctwjxYoH"
      },
      "source": [
        "output=nested[1][2]"
      ],
      "execution_count": null,
      "outputs": []
    },
    {
      "cell_type": "markdown",
      "metadata": {
        "id": "Nk8Y0vybxYoH"
      },
      "source": [
        "### Question 2\n",
        "Below, a list of lists is provided. Use in and not in tests to create variables with Boolean values. See comments for further instructions."
      ]
    },
    {
      "cell_type": "code",
      "metadata": {
        "id": "4NQrWgKOxYoH"
      },
      "source": [
        "lst = [['apple', 'orange', 'banana'], [5, 6, 7, 8, 9.9, 10], ['green', 'yellow', 'purple', 'red']]\n",
        "\n",
        "#Test to see if 'yellow' is in the third list of lst. Save to variable ``yellow``\n",
        "yellow='yellow' in lst[2]\n",
        "\n",
        "#Test to see if 4 is in the second list of lst. Save to variable ``four``\n",
        "four=4 in lst[1]\n",
        "\n",
        "#Test to see if 'orange' is in the first element of lst. Save to variable ``orange``\n",
        "orange='orange' in lst[0]"
      ],
      "execution_count": 1,
      "outputs": []
    },
    {
      "cell_type": "markdown",
      "metadata": {
        "id": "zENqjBH9xYoH"
      },
      "source": [
        "### Question 3\n",
        "Below, we’ve provided a list of lists. Use in statements to create variables with Boolean values - see the ActiveCode window for further directions."
      ]
    },
    {
      "cell_type": "code",
      "metadata": {
        "id": "p6-JBf2hxYoH"
      },
      "source": [
        "L = [[5, 8, 7], ['hello', 'hi', 'hola'], [6.6, 1.54, 3.99], ['small', 'large']]\n",
        "\n",
        "# Test if 'hola' is in the list L. Save to variable name test1\n",
        "test1='hola' in L\n",
        "\n",
        "# Test if [5, 8, 7] is in the list L. Save to variable name test2\n",
        "test2=[5,8,7] in L\n",
        "\n",
        "# Test if 6.6 is in the third element of list L. Save to variable name test3\n",
        "test3=6.6 in L[2]"
      ],
      "execution_count": 2,
      "outputs": []
    },
    {
      "cell_type": "markdown",
      "metadata": {
        "id": "ptope_O5xYoI"
      },
      "source": [
        "### Question 4\n",
        "Provided is a nested data structure. Follow the instructions in the comments below. Do not hard code."
      ]
    },
    {
      "cell_type": "code",
      "metadata": {
        "id": "MXavFR36xYoJ",
        "outputId": "71ca2a28-a3e4-4d31-9b50-5549627f8b2e"
      },
      "source": [
        "nested = {'data': ['finding', 23, ['exercises', 'hangout', 34]], 'window': ['part', 'whole', [], 'sum', ['math', 'calculus', 'algebra', 'geometry', 'statistics',['physics', 'chemistry', 'biology']]]}\n",
        "\n",
        "# Check to see if the string data is a key in nested, if it is, assign True to the variable data, otherwise assign False.\n",
        "if 'data' in nested.keys():\n",
        "    data=True\n",
        "else:\n",
        "    data=False\n",
        "print(data)\n",
        "\n",
        "# Check to see if the integer 24 is in the value of the key data, if it is then assign to the variable twentyfour the value of True, otherwise False.\n",
        "if 24 in nested['data']:\n",
        "    twentyfour=True\n",
        "else:\n",
        "    twentyfour=False\n",
        "print(twentyfour)\n",
        "\n",
        "# Check to see that the string 'whole' is not in the value of the key window. If it's not, then assign to the variable whole the value of True, otherwise False.\n",
        "if 'whole' not in nested['window']:\n",
        "    whole=True\n",
        "else:\n",
        "    whole=False\n",
        "print(whole)\n",
        "\n",
        "# Check to see if the string 'physics' is a key in the dictionary nested. If it is, assign to the variable physics, the value of True, otherwise False.\n",
        "if 'physics' in nested.keys():\n",
        "    physics=True\n",
        "else:\n",
        "    physics=False\n",
        "print(physics)"
      ],
      "execution_count": null,
      "outputs": [
        {
          "output_type": "stream",
          "text": [
            "True\n",
            "False\n",
            "False\n",
            "False\n"
          ],
          "name": "stdout"
        }
      ]
    },
    {
      "cell_type": "markdown",
      "metadata": {
        "id": "a0B6saVNxYoK"
      },
      "source": [
        "### Question 5\n",
        "The variable nested_d contains a nested dictionary with the gold medal counts for the top four countries in the past three Olympics. Assign the value of Great Britain’s gold medal count from the London Olympics to the variable london_gold. Use indexing. Do not hardcode."
      ]
    },
    {
      "cell_type": "code",
      "metadata": {
        "id": "GKsd6dpzxYoK"
      },
      "source": [
        "nested_d = {'Beijing':{'China':51, 'USA':36, 'Russia':22, 'Great Britain':19}, 'London':{'USA':46, 'China':38, 'Great Britain':29, 'Russia':22}, 'Rio':{'USA':35, 'Great Britain':22, 'China':20, 'Germany':13}}"
      ],
      "execution_count": null,
      "outputs": []
    },
    {
      "cell_type": "code",
      "metadata": {
        "id": "OC872RuAxYoL"
      },
      "source": [
        "#Answer:\n",
        "\n",
        "london_gold=nested_d['London']['Great Britain']"
      ],
      "execution_count": null,
      "outputs": []
    },
    {
      "cell_type": "markdown",
      "metadata": {
        "id": "JGxbGxMsxYoL"
      },
      "source": [
        "### Question 6\n",
        "Below, we have provided a nested dictionary. Index into the dictionary to create variables that we have listed in the ActiveCode window."
      ]
    },
    {
      "cell_type": "code",
      "metadata": {
        "id": "6Kyiep4NxYoL"
      },
      "source": [
        "sports = {'swimming': ['butterfly', 'breaststroke', 'backstroke', 'freestyle'], 'diving': ['springboard', 'platform', 'synchronized'], 'track': ['sprint', 'distance', 'jumps', 'throws'], 'gymnastics': {'women':['vault', 'floor', 'uneven bars', 'balance beam'], 'men': ['vault', 'parallel bars', 'floor', 'rings']}}\n",
        "\n",
        "# Assign the string 'backstroke' to the name v1\n",
        "v1=sports['swimming'][2]\n",
        "\n",
        "# Assign the string 'platform' to the name v2\n",
        "v2=sports['diving'][1]\n",
        "\n",
        "# Assign the list ['vault', 'floor', 'uneven bars', 'balance beam'] to the name v3\n",
        "v3=sports['gymnastics']['women']\n",
        "\n",
        "# Assign the string 'rings' to the name v4\n",
        "v4=sports['gymnastics']['men'][3]"
      ],
      "execution_count": null,
      "outputs": []
    },
    {
      "cell_type": "markdown",
      "metadata": {
        "id": "hSvD-s1-xYoL"
      },
      "source": [
        "### Question 7\n",
        "Given the dictionary, nested_d, save the medal count for the USA from all three Olympics in the dictionary to the list US_count."
      ]
    },
    {
      "cell_type": "code",
      "metadata": {
        "id": "Ua0L2hWqxYoL"
      },
      "source": [
        "nested_d = {'Beijing':{'China':51, 'USA':36, 'Russia':22, 'Great Britain':19}, 'London':{'USA':46, 'China':38, 'Great Britain':29, 'Russia':22}, 'Rio':{'USA':35, 'Great Britain':22, 'China':20, 'Germany':13}}\n",
        "\n",
        "US_count = []"
      ],
      "execution_count": null,
      "outputs": []
    },
    {
      "cell_type": "code",
      "metadata": {
        "id": "HwZUCEFfxYoL",
        "outputId": "f8a49a7d-320e-472e-ee13-e7e27eb3ae0e"
      },
      "source": [
        "#Answer:\n",
        "\n",
        "for olympics in nested_d.keys():\n",
        "    US_count.append(nested_d[olympics]['USA'])\n",
        "\n",
        "print(US_count)"
      ],
      "execution_count": null,
      "outputs": [
        {
          "output_type": "stream",
          "text": [
            "[36, 46, 35]\n"
          ],
          "name": "stdout"
        }
      ]
    },
    {
      "cell_type": "markdown",
      "metadata": {
        "id": "hfx4q7-UxYoM"
      },
      "source": [
        "### Question 8\n",
        "Iterate through the contents of l_of_l and assign the third element of sublist to a new list called third."
      ]
    },
    {
      "cell_type": "code",
      "metadata": {
        "id": "umxV8R3WxYoM"
      },
      "source": [
        "l_of_l = [['purple', 'mauve', 'blue'], ['red', 'maroon', 'blood orange', 'crimson'], ['sea green', 'cornflower', 'lavender', 'indigo'], ['yellow', 'amarillo', 'mac n cheese', 'golden rod']]"
      ],
      "execution_count": null,
      "outputs": []
    },
    {
      "cell_type": "code",
      "metadata": {
        "id": "bASbJRjYxYoM",
        "outputId": "659d7efa-7362-4358-e3ba-3374fbeaee08"
      },
      "source": [
        "#Answer:\n",
        "\n",
        "third=[]\n",
        "\n",
        "for sublists in l_of_l:\n",
        "    third.append(sublists[2])\n",
        "    \n",
        "print(third)"
      ],
      "execution_count": null,
      "outputs": [
        {
          "output_type": "stream",
          "text": [
            "['blue', 'blood orange', 'lavender', 'mac n cheese']\n"
          ],
          "name": "stdout"
        }
      ]
    },
    {
      "cell_type": "markdown",
      "metadata": {
        "id": "K-H57_FhxYoN"
      },
      "source": [
        "### Question 9\n",
        "Given below is a list of lists of athletes. Create a list, t, that saves only the athlete’s name if it contains the letter “t”. If it does not contain the letter “t”, save the athlete name into list other."
      ]
    },
    {
      "cell_type": "code",
      "metadata": {
        "id": "biOSDP_NxYoN"
      },
      "source": [
        "athletes = [['Phelps', 'Lochte', 'Schooling', 'Ledecky', 'Franklin'], ['Felix', 'Bolt', 'Gardner', 'Eaton'], ['Biles', 'Douglas', 'Hamm', 'Raisman', 'Mikulak', 'Dalton']]"
      ],
      "execution_count": null,
      "outputs": []
    },
    {
      "cell_type": "code",
      "metadata": {
        "id": "Op6MgufxxYoN",
        "outputId": "cca3c79d-f429-46c8-b163-84bbac93cc6f"
      },
      "source": [
        "#Answer:\n",
        "\n",
        "t=[]\n",
        "other=[]\n",
        "\n",
        "for sublists in athletes:\n",
        "    for name in sublists:\n",
        "        if 't' in name:\n",
        "            t.append(name)\n",
        "        else:\n",
        "            other.append(name)\n",
        "            \n",
        "print(t)\n",
        "print(other)"
      ],
      "execution_count": null,
      "outputs": [
        {
          "output_type": "stream",
          "text": [
            "['Lochte', 'Bolt', 'Eaton', 'Dalton']\n",
            "['Phelps', 'Schooling', 'Ledecky', 'Franklin', 'Felix', 'Gardner', 'Biles', 'Douglas', 'Hamm', 'Raisman', 'Mikulak']\n"
          ],
          "name": "stdout"
        }
      ]
    }
  ]
}