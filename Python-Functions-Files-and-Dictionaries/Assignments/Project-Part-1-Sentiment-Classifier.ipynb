{
 "cells": [
  {
   "cell_type": "markdown",
   "metadata": {},
   "source": [
    "We have provided some synthetic (fake, semi-randomly generated) twitter data in a csv file named project_twitter_data.csv which has the text of a tweet, the number of retweets of that tweet, and the number of replies to that tweet. We have also words that express positive sentiment and negative sentiment, in the files positive_words.txt and negative_words.txt.\n",
    "\n",
    "Your task is to build a sentiment classifier, which will detect how positive or negative each tweet is. You will create a csv file, which contains columns for the Number of Retweets, Number of Replies, Positive Score (which is how many happy words are in the tweet), Negative Score (which is how many angry words are in the tweet), and the Net Score for each tweet. At the end, you upload the csv file to Excel or Google Sheets, and produce a graph of the Net Score vs Number of Retweets.\n",
    "\n",
    "To start, define a function called strip_punctuation which takes one parameter, a string which represents a word, and removes characters considered punctuation from everywhere in the word. (Hint: remember the .replace() method for strings.)"
   ]
  },
  {
   "cell_type": "code",
   "execution_count": 1,
   "metadata": {},
   "outputs": [],
   "source": [
    "punctuation_chars = [\"'\", '\"', \",\", \".\", \"!\", \":\", \";\", '#', '@']"
   ]
  },
  {
   "cell_type": "code",
   "execution_count": 27,
   "metadata": {},
   "outputs": [],
   "source": [
    "def strip_punctuation(s):\n",
    "    for ch in punctuation_chars:\n",
    "        s = s.replace(ch,\"\")\n",
    "    return s  "
   ]
  },
  {
   "cell_type": "markdown",
   "metadata": {},
   "source": [
    "Next, copy in your strip_punctuation function and define a function called get_pos which takes one parameter, a string which represents one or more sentences, and calculates how many words in the string are considered positive words. Use the list, positive_words to determine what words will count as positive. The function should return a positive integer - how many occurrences there are of positive words in the text. Note that all of the words in positive_words are lower cased, so you’ll need to convert all the words in the input string to lower case as well."
   ]
  },
  {
   "cell_type": "code",
   "execution_count": null,
   "metadata": {},
   "outputs": [],
   "source": [
    "\n",
    "punctuation_chars = [\"'\", '\"', \",\", \".\", \"!\", \":\", \";\", '#', '@']\n",
    "\n",
    "def strip_punctuation(s):\n",
    "    for ch in punctuation_chars:\n",
    "        s = s.replace(ch,\"\")\n",
    "    return s\n",
    "\n",
    "# list of positive words to use\n",
    "positive_words = []\n",
    "with open(\"positive_words.txt\") as pos_f:\n",
    "    for lin in pos_f:\n",
    "        if lin[0] != ';' and lin[0] != '\\n':\n",
    "            positive_words.append(lin.strip())\n",
    "           \n",
    "def get_pos(s):\n",
    "    positive = 0\n",
    "    l = s.lower()\n",
    "    l1 = strip_punctuation(l)\n",
    "    list1 = l1.split(\" \")\n",
    "    for i in positive_words:\n",
    "        for j in list1:\n",
    "            if(i == j):\n",
    "                positive = positive + 1\n",
    "    return positive"
   ]
  },
  {
   "cell_type": "markdown",
   "metadata": {},
   "source": [
    "Next, copy in your strip_punctuation function and define a function called get_neg which takes one parameter, a string which represents one or more sentences, and calculates how many words in the string are considered negative words. Use the list, negative_words to determine what words will count as negative. The function should return a positive integer - how many occurrences there are of negative words in the text. Note that all of the words in negative_words are lower cased, so you’ll need to convert all the words in the input string to lower case as well."
   ]
  },
  {
   "cell_type": "code",
   "execution_count": null,
   "metadata": {},
   "outputs": [],
   "source": [
    "\n",
    "punctuation_chars = [\"'\", '\"', \",\", \".\", \"!\", \":\", \";\", '#', '@']\n",
    "\n",
    "def strip_punctuation(s):\n",
    "    for ch in punctuation_chars:\n",
    "        s = s.replace(ch,\"\")\n",
    "    return s\n",
    "\n",
    "negative_words = []\n",
    "with open(\"negative_words.txt\") as pos_f:\n",
    "    for lin in pos_f:\n",
    "        if lin[0] != ';' and lin[0] != '\\n':\n",
    "            negative_words.append(lin.strip())\n",
    "            \n",
    "def get_neg(s):\n",
    "    negative = 0\n",
    "    l = s.lower()\n",
    "    l1 = strip_punctuation(l)\n",
    "    list1 = l1.split(\" \")\n",
    "    for i in negative_words:\n",
    "        for j in list1:\n",
    "            if(i == j):\n",
    "                negative = negative + 1\n",
    "    return negative"
   ]
  },
  {
   "cell_type": "markdown",
   "metadata": {},
   "source": [
    "Finally, copy in your previous functions and write code that opens the file project_twitter_data.csv which has the fake generated twitter data (the text of a tweet, the number of retweets of that tweet, and the number of replies to that tweet). Your task is to build a sentiment classifier, which will detect how positive or negative each tweet is. Copy the code from the code windows above, and put that in the top of this code window. Now, you will write code to create a csv file called resulting_data.csv, which contains the Number of Retweets, Number of Replies, Positive Score (which is how many happy words are in the tweet), Negative Score (which is how many angry words are in the tweet), and the Net Score (how positive or negative the text is overall) for each tweet. The file should have those headers in that order. Remember that there is another component to this project. You will upload the csv file to Excel or Google Sheets and produce a graph of the Net Score vs Number of Retweets. Check Coursera for that portion of the assignment, if you’re accessing this textbook from Coursera."
   ]
  },
  {
   "cell_type": "code",
   "execution_count": null,
   "metadata": {},
   "outputs": [],
   "source": [
    "\n",
    "punctuation_chars = [\"'\", '\"', \",\", \".\", \"!\", \":\", \";\", '#', '@']\n",
    "\n",
    "def strip_punctuation(s):\n",
    "    for ch in punctuation_chars:\n",
    "        s = s.replace(ch,\"\")\n",
    "    return s\n",
    "\n",
    "# lists of words to use\n",
    "positive_words = []\n",
    "with open(\"positive_words.txt\") as pos_f:\n",
    "    for lin in pos_f:\n",
    "        if lin[0] != ';' and lin[0] != '\\n':\n",
    "            positive_words.append(lin.strip())\n",
    "\n",
    "def get_pos(s):\n",
    "    positive = 0\n",
    "    l = s.lower()\n",
    "    l1 = strip_punctuation(l)\n",
    "    list1 = l1.split(\" \")\n",
    "    for i in positive_words:\n",
    "        for j in list1:\n",
    "            if(i == j):\n",
    "                positive = positive + 1\n",
    "    return positive\n",
    "            \n",
    "            \n",
    "negative_words = []\n",
    "with open(\"negative_words.txt\") as pos_f:\n",
    "    for lin in pos_f:\n",
    "        if lin[0] != ';' and lin[0] != '\\n':\n",
    "            negative_words.append(lin.strip())\n",
    "\n",
    "def get_neg(s):\n",
    "    negative = 0\n",
    "    l = s.lower()\n",
    "    l1 = strip_punctuation(l)\n",
    "    list1 = l1.split(\" \")\n",
    "    for i in negative_words:\n",
    "        for j in list1:\n",
    "            if(i == j):\n",
    "                negative = negative + 1\n",
    "    return negative\n",
    "\n",
    "output = open(\"resulting_data.csv\", \"w\")\n",
    "output.write(\"Number of Retweets, Number of Replies, Positive Score, Negative Score, Net Score\")\n",
    "output.write(\"\\n\")\n",
    "twitter_data = open(\"project_twitter_data.csv\", \"r\")\n",
    "twitter_data = twitter_data.readlines()\n",
    "for tweet in twitter_data[1:]:\n",
    "    sp = tweet.strip().split(\",\")\n",
    "    p_score = get_pos(tweet)\n",
    "    n_score = get_neg(tweet)\n",
    "    net = p_score - n_score\n",
    "    row = '{}, {}, {}, {}, {}'.format(sp[1], sp[2], p_score, n_score, net)\n",
    "    output.write(row)\n",
    "    output.write(\"\\n\")"
   ]
  },
  {
   "cell_type": "markdown",
   "metadata": {},
   "source": [
    "For another solution see also: https://github.com/RichardDanielOliva/Python_FunctionsFilesDictionaries_FinalCourseProject/blob/master/pyProjectFunctionFilesDictionary.py"
   ]
  }
 ],
 "metadata": {
  "kernelspec": {
   "display_name": "Python 3",
   "language": "python",
   "name": "python3"
  },
  "language_info": {
   "codemirror_mode": {
    "name": "ipython",
    "version": 3
   },
   "file_extension": ".py",
   "mimetype": "text/x-python",
   "name": "python",
   "nbconvert_exporter": "python",
   "pygments_lexer": "ipython3",
   "version": "3.7.6"
  }
 },
 "nbformat": 4,
 "nbformat_minor": 2
}
