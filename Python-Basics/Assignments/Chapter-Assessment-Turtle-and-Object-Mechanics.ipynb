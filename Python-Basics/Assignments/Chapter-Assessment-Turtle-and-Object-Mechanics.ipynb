{
 "cells": [
  {
   "cell_type": "code",
   "execution_count": 0,
   "metadata": {
    "collapsed": false
   },
   "outputs": [
   ],
   "source": [
    "What is the name of jane’s attribute (not method) that is referred to in the following code?"
   ]
  },
  {
   "cell_type": "code",
   "execution_count": 0,
   "metadata": {
    "collapsed": false
   },
   "outputs": [
   ],
   "source": [
    "import turtle\n",
    "\n",
    "jane = turtle.Turtle()\n",
    "jane.forward(20)\n",
    "print(jane.x)"
   ]
  },
  {
   "cell_type": "code",
   "execution_count": 0,
   "metadata": {
    "collapsed": false
   },
   "outputs": [
   ],
   "source": [
    "What are the names of the instances in the following code? Please put one instance per blank space and enter them in the order that the computer would read them."
   ]
  },
  {
   "cell_type": "code",
   "execution_count": 0,
   "metadata": {
    "collapsed": false
   },
   "outputs": [
   ],
   "source": [
    "import turtle\n",
    "wn = turtle.Screen()\n",
    "\n",
    "jazz = turtle.Turtle()\n",
    "jazz.forward(50)\n",
    "jazz.right(90)\n",
    "pop = turtle.Turtle()\n",
    "pop.left(180)\n",
    "pop.forward(76)"
   ]
  },
  {
   "cell_type": "code",
   "execution_count": 0,
   "metadata": {
    "collapsed": false
   },
   "outputs": [
   ],
   "source": [
    "Write code to draw a regular pentagon (a five-sided figure with all sides the same length)."
   ]
  },
  {
   "cell_type": "code",
   "execution_count": 0,
   "metadata": {
    "collapsed": false
   },
   "outputs": [
   ],
   "source": [
    "import turtle               \n",
    "wn = turtle.Screen()        \n",
    "\n",
    "pent =turtle.Turtle()\n",
    "for i in range (5):\n",
    "    pent.forward(25)          \n",
    "    pent.left(75)  "
   ]
  },
  {
   "cell_type": "code",
   "execution_count": 0,
   "metadata": {
    "collapsed": false
   },
   "outputs": [
   ],
   "source": [
   ]
  }
 ],
 "metadata": {
  "kernelspec": {
   "display_name": "Python 3 (system-wide)",
   "language": "python",
   "metadata": {
    "cocalc": {
     "description": "Python 3 programming language",
     "priority": 100,
     "url": "https://www.python.org/"
    }
   },
   "name": "python3"
  },
  "language_info": {
   "codemirror_mode": {
    "name": "ipython",
    "version": 3
   },
   "file_extension": ".py",
   "mimetype": "text/x-python",
   "name": "python",
   "nbconvert_exporter": "python",
   "pygments_lexer": "ipython3",
   "version": "3.8.2"
  }
 },
 "nbformat": 4,
 "nbformat_minor": 4
}